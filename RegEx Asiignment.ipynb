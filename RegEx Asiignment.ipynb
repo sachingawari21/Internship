{
 "cells": [
  {
   "cell_type": "code",
   "execution_count": 2,
   "id": "a156b308",
   "metadata": {},
   "outputs": [
    {
     "name": "stdout",
     "output_type": "stream",
     "text": [
      "Python:Exercises::PHP:exercises:\n"
     ]
    }
   ],
   "source": [
    "#1\n",
    "import re\n",
    "target_string = 'Python Exercises, PHP exercises.'\n",
    "print(re.sub(\"[ ,.]\", \":\",target_string))\n"
   ]
  },
  {
   "cell_type": "code",
   "execution_count": 4,
   "id": "447aae03",
   "metadata": {},
   "outputs": [],
   "source": [
    "# 2.\n",
    "import pandas as pd\n",
    "import re\n",
    "\n",
    "data = {'SUMMARY': ['hello, world!', 'XXXXX test', '123four, five:; six...']}\n",
    "df = pd.DataFrame(data)\n",
    "df['SUMMARY'] = df['SUMMARY'].apply(lambda x: re.sub(r'[^\\w\\s]', '', x))\n"
   ]
  },
  {
   "cell_type": "code",
   "execution_count": 6,
   "id": "93891e52",
   "metadata": {},
   "outputs": [
    {
     "name": "stdout",
     "output_type": "stream",
     "text": [
      "<class 're.Pattern'>\n",
      "['251', '761', '231', '451']\n"
     ]
    }
   ],
   "source": [
    "# 3.\n",
    "targetstr1 = \"Emma's luck numbers are 251 761 231 451\"\n",
    "\n",
    "string_pattern = r\"\\d{3}\"\n",
    "\n",
    "regex_pattern = re.compile(string_pattern)\n",
    "\n",
    "print(type(regex_pattern))\n",
    "\n",
    "result = regex_pattern.findall(str1)\n",
    "print(result)\n"
   ]
  },
  {
   "cell_type": "code",
   "execution_count": 27,
   "id": "d1170396",
   "metadata": {},
   "outputs": [
    {
     "name": "stdout",
     "output_type": "stream",
     "text": [
      "['The', 'quick', 'brown', 'fox', 'jumps', 'over', 'the', 'lazy', 'dog']\n"
     ]
    }
   ],
   "source": [
    "# 4.\n",
    "import re\n",
    "text = 'The quick brown fox jumps over the lazy dog.'\n",
    "print(re.findall(r\"\\b\\w{3,5}\\b\", text))\n"
   ]
  },
  {
   "cell_type": "code",
   "execution_count": 28,
   "id": "e15dd963",
   "metadata": {},
   "outputs": [
    {
     "name": "stdout",
     "output_type": "stream",
     "text": [
      "['example .com', 'hr@fliprobo .com', 'github .com', 'Hello Data Science World', 'Data Scientist']\n"
     ]
    }
   ],
   "source": [
    "# 5.\n",
    "import re\n",
    "\n",
    "def remove_parentheses(strings):\n",
    "    modified_strings = []\n",
    "    for string in strings:\n",
    "        modified_string = re.sub(\"[()]\", \"\", string)\n",
    "        modified_strings.append(modified_string)\n",
    "    return modified_strings\n",
    "\n",
    "ample_text = [\"example (.com)\", \"hr@fliprobo (.com)\", \"github (.com)\", \"Hello (Data Science World)\", \"Data (Scientist)\"]\n",
    "result = remove_parentheses(sample_text)\n",
    "print(result)"
   ]
  },
  {
   "cell_type": "code",
   "execution_count": null,
   "id": "6f8d3905",
   "metadata": {},
   "outputs": [],
   "source": [
    "#6\n",
    "import re\n",
    "\n",
    "with open('filename.txt', 'r') as file:\n",
    "    text = file.read()\n",
    "\n",
    "modified_text = re.sub(r'\\([^()]*\\)', '', text)\n",
    "\n",
    "with open('filename.txt', 'w') as file:\n",
    "    file.write(modified_text)\n",
    "\n",
    "print(modified_text)"
   ]
  },
  {
   "cell_type": "code",
   "execution_count": 35,
   "id": "886798db",
   "metadata": {},
   "outputs": [
    {
     "name": "stdout",
     "output_type": "stream",
     "text": [
      "['Importance', 'Of', 'Regular', 'Expressions', 'In', 'Python']\n"
     ]
    }
   ],
   "source": [
    "#7\n",
    "import re\n",
    "text = \"ImportanceOfRegularExpressionsInPython\"\n",
    "print(re.findall('[A-Z][^A-Z]*', text))"
   ]
  },
  {
   "cell_type": "code",
   "execution_count": 40,
   "id": "4e95e4ab",
   "metadata": {},
   "outputs": [
    {
     "name": "stdout",
     "output_type": "stream",
     "text": [
      "The original string is : RegularExpression1IsAn2ImportantTopic3InPython\n",
      "The space added string : RegularExpression 1IsAn 2ImportantTopic 3InPython\n"
     ]
    }
   ],
   "source": [
    "#8\n",
    "\n",
    "test_str = 'RegularExpression1IsAn2ImportantTopic3InPython'\n",
    " \n",
    "print(\"The original string is : \" + str(test_str))\n",
    "num=\"0123456789\"\n",
    "for i in test_str:\n",
    "    if i in num:\n",
    "        test_str=test_str.replace(i,\" \"+i+\"\")\n",
    "res=test_str\n",
    "print(\"The space added string : \" + str(res))\n"
   ]
  },
  {
   "cell_type": "code",
   "execution_count": 41,
   "id": "6c683563",
   "metadata": {},
   "outputs": [
    {
     "name": "stdout",
     "output_type": "stream",
     "text": [
      "The original string is : RegularExpression1IsAn2ImportantTopic3InPython\n",
      "The space added string : RegularExpression 1 IsAn 2 ImportantTopic 3 InPython\n"
     ]
    }
   ],
   "source": [
    "#9\n",
    "\n",
    "test_str = 'RegularExpression1IsAn2ImportantTopic3InPython'\n",
    " \n",
    "print(\"The original string is : \" + str(test_str))\n",
    "num=\"0123456789\"\n",
    "for i in test_str:\n",
    "    if i in num:\n",
    "        test_str=test_str.replace(i,\" \"+i+\" \")\n",
    "res=test_str\n",
    "print(\"The space added string : \" + str(res))\n"
   ]
  },
  {
   "cell_type": "code",
   "execution_count": null,
   "id": "e4b9d6d1",
   "metadata": {},
   "outputs": [],
   "source": []
  },
  {
   "cell_type": "code",
   "execution_count": 42,
   "id": "65ef3a90",
   "metadata": {},
   "outputs": [
    {
     "name": "stdout",
     "output_type": "stream",
     "text": [
      "Not matched!\n",
      "Found a match!\n"
     ]
    }
   ],
   "source": [
    "#11\n",
    "import re\n",
    "def text_match(text):\n",
    "        patterns = '^[a-zA-Z0-9_]*$'\n",
    "        if re.search(patterns,  text):\n",
    "                return 'Found a match!'\n",
    "        else:\n",
    "                return('Not matched!')\n",
    "\n",
    "print(text_match(\"The quick brown fox jumps over the lazy dog.\"))\n",
    "print(text_match(\"Python_Exercises_1\"))\n",
    "\n"
   ]
  },
  {
   "cell_type": "code",
   "execution_count": 45,
   "id": "53d4aa3b",
   "metadata": {},
   "outputs": [
    {
     "name": "stdout",
     "output_type": "stream",
     "text": [
      "The string starts with the specified number.\n"
     ]
    }
   ],
   "source": [
    "#12\n",
    "import re\n",
    "def check_starting_number(string, number):\n",
    "    if string.startswith(str(number)):\n",
    "        return True\n",
    "    else:\n",
    "        return False\n",
    "\n",
    "string = \"123abc\"\n",
    "number = 123\n",
    "\n",
    "if check_starting_number(string, number):\n",
    "  print(\"The string starts with the specified number.\")\n",
    "else:\n",
    "  print(\"The string does not start with the specified number.\")\n",
    "\n"
   ]
  },
  {
   "cell_type": "code",
   "execution_count": 47,
   "id": "447963d1",
   "metadata": {},
   "outputs": [
    {
     "name": "stdout",
     "output_type": "stream",
     "text": [
      "192.168.15.196\n"
     ]
    }
   ],
   "source": [
    "#13\n",
    "import re\n",
    "ip = \"192.168.15.196\"\n",
    "string = re.sub('\\.[0]*', '.', ip)\n",
    "print(string)\n"
   ]
  },
  {
   "cell_type": "code",
   "execution_count": 71,
   "id": "5f298479",
   "metadata": {},
   "outputs": [
    {
     "name": "stdout",
     "output_type": "stream",
     "text": [
      "[('August', '')]\n"
     ]
    }
   ],
   "source": [
    "#14\n",
    "import re\n",
    "\n",
    "text = \"On August 15th 1947 that India was declared independent from British colonialism, and the reins of control were handed over to the leaders of the Country.\"\n",
    "#with open('file2.txt', 'r') as file:\n",
    " #   text = file.read()\n",
    "pattern = r\"\\b([A-Z][a-z]+) \\w{1,6}([A-Z]:\\d{1-9} |th)? \\d{4}\\b\"\n",
    "\n",
    "matches = re.findall(pattern, text)\n",
    "print(matches)\n"
   ]
  },
  {
   "cell_type": "code",
   "execution_count": 72,
   "id": "e3bf38cf",
   "metadata": {},
   "outputs": [
    {
     "name": "stdout",
     "output_type": "stream",
     "text": [
      "Found \"fox\" in \"The quick brown fox jumps over the lazy dog.\" from 16 to 19 \n"
     ]
    }
   ],
   "source": [
    "#15\n",
    "import re\n",
    "pattern = 'fox'\n",
    "text = 'The quick brown fox jumps over the lazy dog.'\n",
    "match = re.search(pattern, text)\n",
    "s = match.start()\n",
    "e = match.end()\n",
    "print('Found \"%s\" in \"%s\" from %d to %d ' % \\\n",
    "    (match.re.pattern, match.string, s, e))\n"
   ]
  },
  {
   "cell_type": "code",
   "execution_count": 74,
   "id": "5b5dd970",
   "metadata": {},
   "outputs": [
    {
     "name": "stdout",
     "output_type": "stream",
     "text": [
      "Found \"fox\" in \"The quick brown fox jumps over the lazy dog.\" from 16 to 19 \n"
     ]
    }
   ],
   "source": [
    "#16\n",
    "\n",
    "import re\n",
    "pattern = 'fox'\n",
    "text = 'The quick brown fox jumps over the lazy dog.'\n",
    "match = re.search(pattern, text)\n",
    "s = match.start()\n",
    "e = match.end()\n",
    "print('Found \"%s\" in \"%s\" from %d to %d ' % \\\n",
    "    (match.re.pattern, match.string, s, e))\n",
    "\n"
   ]
  },
  {
   "cell_type": "code",
   "execution_count": 75,
   "id": "7dd6f733",
   "metadata": {},
   "outputs": [
    {
     "name": "stdout",
     "output_type": "stream",
     "text": [
      "Found \"exercises\"\n",
      "Found \"exercises\"\n",
      "Found \"exercises\"\n"
     ]
    }
   ],
   "source": [
    "#17\n",
    "import re\n",
    "text = 'Python exercises, PHP exercises, C# exercises'\n",
    "pattern = 'exercises'\n",
    "for match in re.findall(pattern, text):\n",
    "    print('Found \"%s\"' % match)\n"
   ]
  },
  {
   "cell_type": "code",
   "execution_count": 76,
   "id": "f3b0c65c",
   "metadata": {},
   "outputs": [
    {
     "name": "stdout",
     "output_type": "stream",
     "text": [
      "Found \"exercises\" at 7:16\n",
      "Found \"exercises\" at 22:31\n",
      "Found \"exercises\" at 36:45\n"
     ]
    }
   ],
   "source": [
    "#18\n",
    "import re\n",
    "text = 'Python exercises, PHP exercises, C# exercises'\n",
    "pattern = 'exercises'\n",
    "for match in re.finditer(pattern, text):\n",
    "    s = match.start()\n",
    "    e = match.end()\n",
    "    print('Found \"%s\" at %d:%d' % (text[s:e], s, e))\n"
   ]
  },
  {
   "cell_type": "code",
   "execution_count": 77,
   "id": "377269ea",
   "metadata": {},
   "outputs": [
    {
     "name": "stdout",
     "output_type": "stream",
     "text": [
      "Original date in YYY-MM-DD Format:  2026-01-02\n",
      "New date in DD-MM-YYYY Format:  02-01-2026\n"
     ]
    }
   ],
   "source": [
    "#19\n",
    "import re\n",
    "def change_date_format(dt):\n",
    "        return re.sub(r'(\\d{4})-(\\d{1,2})-(\\d{1,2})', '\\\\3-\\\\2-\\\\1', dt)\n",
    "dt1 = \"2026-01-02\"\n",
    "print(\"Original date in YYY-MM-DD Format: \",dt1)\n",
    "print(\"New date in DD-MM-YYYY Format: \",change_date_format(dt1))\n"
   ]
  },
  {
   "cell_type": "code",
   "execution_count": 78,
   "id": "2fd5a744",
   "metadata": {},
   "outputs": [
    {
     "name": "stdout",
     "output_type": "stream",
     "text": [
      "['01.12', '0132.12', '2.31', '145.8', '3.01', '27.25', '0.25']\n"
     ]
    }
   ],
   "source": [
    "#20\n",
    "\n",
    "import re\n",
    "\n",
    "def find_decimal_numbers(string):\n",
    "    pattern = re.compile(r'\\d+\\.\\d{1,2}')\n",
    "    decimal_numbers = re.findall(pattern, string)\n",
    "    return decimal_numbers\n",
    "\n",
    "sample_text = \"01.12 0132.123 2.31875 145.8 3.01 27.25 0.25\"\n",
    "output = find_decimal_numbers(sample_text)\n",
    "print(output)"
   ]
  },
  {
   "cell_type": "code",
   "execution_count": 79,
   "id": "c30860c0",
   "metadata": {},
   "outputs": [
    {
     "name": "stdout",
     "output_type": "stream",
     "text": [
      "50\n",
      "Index position: 62\n"
     ]
    }
   ],
   "source": [
    "#21\n",
    "\n",
    "import re\n",
    "# Input.\n",
    "text = \"The following example creates an ArrayList with a capacity of 50 elements. Four elements are then added to the ArrayList and the ArrayList is trimmed accordingly.\"\n",
    "\n",
    "for m in re.finditer(\"\\d+\", text):\n",
    "    print(m.group(0))\n",
    "    print(\"Index position:\", m.start())\n"
   ]
  },
  {
   "cell_type": "code",
   "execution_count": 83,
   "id": "49c66726",
   "metadata": {},
   "outputs": [
    {
     "name": "stdout",
     "output_type": "stream",
     "text": [
      "950\n"
     ]
    }
   ],
   "source": [
    "#22\n",
    "\n",
    "import re\n",
    "\n",
    "input_string = 'My marks in each semester are: 947, 896, 926, 524, 734, 950, 642'\n",
    "\n",
    "numeric_values = re.findall(r'\\d+', input_string)\n",
    "numeric_values = [int(value) for value in numeric_values]\n",
    "\n",
    "max_value = max(numeric_values)\n",
    "\n",
    "print(max_value)"
   ]
  },
  {
   "cell_type": "code",
   "execution_count": 86,
   "id": "a0c189dc",
   "metadata": {},
   "outputs": [
    {
     "name": "stdout",
     "output_type": "stream",
     "text": [
      "Regular Expression Is An Important Topic In Python\n"
     ]
    }
   ],
   "source": [
    "#23\n",
    "\n",
    "import re\n",
    "def capital_words_spaces(str1):\n",
    "  return re.sub(r\"(\\w)([A-Z])\", r\"\\1 \\2\", str1)\n",
    "\n",
    "print(capital_words_spaces(\"RegularExpressionIsAnImportantTopicInPython\"))\n"
   ]
  },
  {
   "cell_type": "code",
   "execution_count": 87,
   "id": "b5b0c82b",
   "metadata": {},
   "outputs": [
    {
     "name": "stdout",
     "output_type": "stream",
     "text": [
      "Found a match!\n",
      "Found a match!\n",
      "Not matched!\n",
      "Not matched!\n",
      "Not matched!\n",
      "Found a match!\n"
     ]
    }
   ],
   "source": [
    "#24\n",
    "import re\n",
    "def text_match(text):\n",
    "        patterns = '[A-Z]+[a-z]+$'\n",
    "        if re.search(patterns, text):\n",
    "                return 'Found a match!'\n",
    "        else:\n",
    "                return('Not matched!')\n",
    "print(text_match(\"AaBbGg\"))\n",
    "print(text_match(\"Python\"))\n",
    "print(text_match(\"python\"))\n",
    "print(text_match(\"PYTHON\"))\n",
    "print(text_match(\"aA\"))\n",
    "print(text_match(\"Aa\"))\n"
   ]
  },
  {
   "cell_type": "code",
   "execution_count": 98,
   "id": "765b8aff",
   "metadata": {},
   "outputs": [
    {
     "name": "stdout",
     "output_type": "stream",
     "text": [
      "Good bye bye world world\n",
      "Ram went went to to his home\n",
      "Hello hello world world\n"
     ]
    }
   ],
   "source": [
    "#25\n",
    "\n",
    "import re\n",
    " \n",
    " \n",
    "# Function to validate the sentence\n",
    "# and remove the duplicate words\n",
    "def removeDuplicateWords(input):\n",
    " \n",
    "    # Regex to matching repeated words\n",
    "    regex = r'\\b(\\[A-Z]^[a-z]+)(?:\\W+\\1\\b)+'\n",
    " \n",
    "    return re.sub(regex, r'\\1', input, flags=re.IGNORECASE)\n",
    " \n",
    " \n",
    "# Driver Code\n",
    " \n",
    "# Test Case: 1\n",
    "str1 = \"Good bye bye world world\"\n",
    "print(removeDuplicateWords(str1))\n",
    " \n",
    "# Test Case: 2\n",
    "str2 = \"Ram went went to to his home\"\n",
    "print(removeDuplicateWords(str2))\n",
    " \n",
    "# Test Case: 3\n",
    "str3 = \"Hello hello world world\"\n",
    "print(removeDuplicateWords(str3))\n",
    " \n"
   ]
  },
  {
   "cell_type": "code",
   "execution_count": 99,
   "id": "e8d53011",
   "metadata": {},
   "outputs": [
    {
     "name": "stdout",
     "output_type": "stream",
     "text": [
      "Enter a string: abc123\n",
      "String ends with an alphanumeric character\n"
     ]
    }
   ],
   "source": [
    "#26\n",
    "\n",
    "def check_string(string):\n",
    "    pattern = r\"\\w$\"\n",
    "    match = re.search(pattern, string)\n",
    "    if match:\n",
    "        return True\n",
    "    else:\n",
    "        return False\n",
    "\n",
    "# Example usage\n",
    "input_string = input(\"Enter a string: \")\n",
    "if check_string(input_string):\n",
    "    print(\"String ends with an alphanumeric character\")\n",
    "else:\n",
    "    print(\"String does not end with an alphanumeric character\")\n"
   ]
  },
  {
   "cell_type": "code",
   "execution_count": 100,
   "id": "ed328da0",
   "metadata": {},
   "outputs": [
    {
     "name": "stdout",
     "output_type": "stream",
     "text": [
      "['#Doltiwal', '#xyzabc', '#Demonetization']\n"
     ]
    }
   ],
   "source": [
    "#27\n",
    "\n",
    "import re\n",
    "\n",
    "def extract_hashtags(text):\n",
    "  hashtags = re.findall(r'#\\w+', text)\n",
    "  return hashtags\n",
    "\n",
    "# Sample text\n",
    "text = 'RT @kapil_kausik: #Doltiwal I mean #xyzabc is \"hurt\" by #Demonetization as the same has rendered USELESS <ed><U+00A0><U+00BD><ed><U+00B1><U+0089> \"acquired funds\" No wo'\n",
    "\n",
    "# Extract hashtags\n",
    "hashtags = extract_hashtags(text)\n",
    "\n",
    "# Print the extracted hashtags\n",
    "print(hashtags)\n",
    "\n"
   ]
  },
  {
   "cell_type": "code",
   "execution_count": 101,
   "id": "521ec3fd",
   "metadata": {},
   "outputs": [
    {
     "name": "stdout",
     "output_type": "stream",
     "text": [
      "@Jags123456 Bharat band on 28??<ed><ed>Those who are protesting #demonetization are all different party leaders\n"
     ]
    }
   ],
   "source": [
    "#28\n",
    "\n",
    "import re\n",
    "\n",
    "input_text = \"@Jags123456 Bharat band on 28??<ed><U+00A0><U+00BD><ed><U+00B8><U+0082>Those who are protesting #demonetization are all different party leaders\"\n",
    "\n",
    "pattern = r\"<U\\+\\w{4}>\"\n",
    "output_text = re.sub(pattern, \"\", input_text)\n",
    "\n",
    "print(output_text)\n"
   ]
  },
  {
   "cell_type": "code",
   "execution_count": null,
   "id": "4e208dbd",
   "metadata": {},
   "outputs": [],
   "source": [
    "#29\n",
    "import re\n",
    "\n",
    "# Open the text file\n",
    "with open('filename.txt', 'r') as file:\n",
    "    text = file.read()\n",
    "\n",
    "# Define the regular expression pattern for dates\n",
    "pattern = r'\\d{2}-\\d{2}-\\d{4}'\n",
    "\n",
    "# Find all matches of the pattern in the text\n",
    "dates = re.findall(pattern, text)\n",
    "\n",
    "# Print the extracted dates\n",
    "for date in dates:\n",
    "    print(date)\n"
   ]
  },
  {
   "cell_type": "code",
   "execution_count": 104,
   "id": "040f98fb",
   "metadata": {},
   "outputs": [
    {
     "name": "stdout",
     "output_type": "stream",
     "text": [
      " following example creates  ArrayList  a capacity   elements. 4 elements   added   ArrayList   ArrayList  trimmed accordingly.\n"
     ]
    }
   ],
   "source": [
    "#30\n",
    "import re\n",
    "\n",
    "def remove_words(string):\n",
    "    pattern = re.compile(r'\\b\\w{2,4}\\b')\n",
    "    modified_string = re.sub(pattern, '', string)\n",
    "    return modified_string\n",
    "#To test the function, you can use the provided sample text as input:\n",
    "sample_text = \"The following example creates an ArrayList with a capacity of 50 elements. 4 elements are then added to the ArrayList and the ArrayList is trimmed accordingly.\"\n",
    "output = remove_words(sample_text)\n",
    "print(output)\n",
    "\n"
   ]
  },
  {
   "cell_type": "code",
   "execution_count": null,
   "id": "58669637",
   "metadata": {},
   "outputs": [],
   "source": []
  }
 ],
 "metadata": {
  "kernelspec": {
   "display_name": "Python 3 (ipykernel)",
   "language": "python",
   "name": "python3"
  },
  "language_info": {
   "codemirror_mode": {
    "name": "ipython",
    "version": 3
   },
   "file_extension": ".py",
   "mimetype": "text/x-python",
   "name": "python",
   "nbconvert_exporter": "python",
   "pygments_lexer": "ipython3",
   "version": "3.11.4"
  }
 },
 "nbformat": 4,
 "nbformat_minor": 5
}
